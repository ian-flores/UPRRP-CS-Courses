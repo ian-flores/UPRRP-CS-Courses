{
 "cells": [
  {
   "cell_type": "markdown",
   "metadata": {},
   "source": [
    "# Final Project CCOM -4065\n",
    "### by Ian Flores Siaca (801-13-2348)"
   ]
  },
  {
   "cell_type": "code",
   "execution_count": 1,
   "metadata": {},
   "outputs": [],
   "source": [
    "import numpy as np\n",
    "from scipy.linalg import qr\n",
    "from scipy.linalg import solve\n",
    "from numpy.linalg import norm\n",
    "from scipy.linalg import hilbert\n",
    "from scipy.linalg import lu_factor\n",
    "from scipy.linalg import lu_solve\n",
    "from tabulate import tabulate\n",
    "\n"
   ]
  },
  {
   "cell_type": "markdown",
   "metadata": {},
   "source": [
    "## Problem 1"
   ]
  },
  {
   "cell_type": "code",
   "execution_count": 2,
   "metadata": {},
   "outputs": [],
   "source": [
    "## Generate a 10 by 10 matrix with random integers from 0 to 100.\n",
    "A = np.random.randint(100,size=(10,10))"
   ]
  },
  {
   "cell_type": "code",
   "execution_count": 3,
   "metadata": {},
   "outputs": [
    {
     "data": {
      "text/plain": [
       "array([[88,  1, 46, 89, 38, 70, 39, 20, 49, 13],\n",
       "       [19, 51, 12, 81, 71, 72,  5,  0, 71, 87],\n",
       "       [17, 36, 17, 78, 53, 69,  6, 83, 19, 81],\n",
       "       [14, 13,  8, 62,  4, 78, 32, 57, 33, 64],\n",
       "       [10,  7, 41, 53, 85,  3, 91, 26, 95,  6],\n",
       "       [94, 30, 18, 73, 83, 81, 79,  5, 51, 30],\n",
       "       [23,  4, 13, 21, 37, 99, 24, 35, 71, 51],\n",
       "       [24, 25, 97, 20, 87, 11, 42, 14, 73,  5],\n",
       "       [76, 66, 93, 91, 14, 59, 96, 82, 50, 42],\n",
       "       [99, 91,  8, 42, 35, 25, 93, 59, 41, 30]])"
      ]
     },
     "execution_count": 3,
     "metadata": {},
     "output_type": "execute_result"
    }
   ],
   "source": [
    "A"
   ]
  },
  {
   "cell_type": "code",
   "execution_count": 4,
   "metadata": {},
   "outputs": [],
   "source": [
    "## Add 0.1 in the diagonal\n",
    "L = np.tril(A, -1) + np.diag(np.repeat(0.1, 10))"
   ]
  },
  {
   "cell_type": "code",
   "execution_count": 5,
   "metadata": {},
   "outputs": [
    {
     "data": {
      "text/plain": [
       "array([[ 0.1,  0. ,  0. ,  0. ,  0. ,  0. ,  0. ,  0. ,  0. ,  0. ],\n",
       "       [19. ,  0.1,  0. ,  0. ,  0. ,  0. ,  0. ,  0. ,  0. ,  0. ],\n",
       "       [17. , 36. ,  0.1,  0. ,  0. ,  0. ,  0. ,  0. ,  0. ,  0. ],\n",
       "       [14. , 13. ,  8. ,  0.1,  0. ,  0. ,  0. ,  0. ,  0. ,  0. ],\n",
       "       [10. ,  7. , 41. , 53. ,  0.1,  0. ,  0. ,  0. ,  0. ,  0. ],\n",
       "       [94. , 30. , 18. , 73. , 83. ,  0.1,  0. ,  0. ,  0. ,  0. ],\n",
       "       [23. ,  4. , 13. , 21. , 37. , 99. ,  0.1,  0. ,  0. ,  0. ],\n",
       "       [24. , 25. , 97. , 20. , 87. , 11. , 42. ,  0.1,  0. ,  0. ],\n",
       "       [76. , 66. , 93. , 91. , 14. , 59. , 96. , 82. ,  0.1,  0. ],\n",
       "       [99. , 91. ,  8. , 42. , 35. , 25. , 93. , 59. , 41. ,  0.1]])"
      ]
     },
     "execution_count": 5,
     "metadata": {},
     "output_type": "execute_result"
    }
   ],
   "source": [
    "L"
   ]
  },
  {
   "cell_type": "code",
   "execution_count": 6,
   "metadata": {},
   "outputs": [
    {
     "name": "stdout",
     "output_type": "stream",
     "text": [
      "L Determinant: -6.314939192258991e-06\n"
     ]
    }
   ],
   "source": [
    "print(\"L Determinant: \" + str(np.linalg.det(L)))"
   ]
  },
  {
   "cell_type": "code",
   "execution_count": 7,
   "metadata": {},
   "outputs": [],
   "source": [
    "L_T = np.transpose(L)"
   ]
  },
  {
   "cell_type": "code",
   "execution_count": 8,
   "metadata": {},
   "outputs": [
    {
     "data": {
      "text/plain": [
       "array([[ 0.1, 19. , 17. , 14. , 10. , 94. , 23. , 24. , 76. , 99. ],\n",
       "       [ 0. ,  0.1, 36. , 13. ,  7. , 30. ,  4. , 25. , 66. , 91. ],\n",
       "       [ 0. ,  0. ,  0.1,  8. , 41. , 18. , 13. , 97. , 93. ,  8. ],\n",
       "       [ 0. ,  0. ,  0. ,  0.1, 53. , 73. , 21. , 20. , 91. , 42. ],\n",
       "       [ 0. ,  0. ,  0. ,  0. ,  0.1, 83. , 37. , 87. , 14. , 35. ],\n",
       "       [ 0. ,  0. ,  0. ,  0. ,  0. ,  0.1, 99. , 11. , 59. , 25. ],\n",
       "       [ 0. ,  0. ,  0. ,  0. ,  0. ,  0. ,  0.1, 42. , 96. , 93. ],\n",
       "       [ 0. ,  0. ,  0. ,  0. ,  0. ,  0. ,  0. ,  0.1, 82. , 59. ],\n",
       "       [ 0. ,  0. ,  0. ,  0. ,  0. ,  0. ,  0. ,  0. ,  0.1, 41. ],\n",
       "       [ 0. ,  0. ,  0. ,  0. ,  0. ,  0. ,  0. ,  0. ,  0. ,  0.1]])"
      ]
     },
     "execution_count": 8,
     "metadata": {},
     "output_type": "execute_result"
    }
   ],
   "source": [
    "L_T"
   ]
  },
  {
   "cell_type": "code",
   "execution_count": 9,
   "metadata": {},
   "outputs": [
    {
     "name": "stdout",
     "output_type": "stream",
     "text": [
      "L Transpose Determinant: 9.999999999999996e-11\n"
     ]
    }
   ],
   "source": [
    "print(\"L Transpose Determinant: \" + str(np.linalg.det(L_T)))"
   ]
  },
  {
   "cell_type": "code",
   "execution_count": 10,
   "metadata": {},
   "outputs": [
    {
     "name": "stdout",
     "output_type": "stream",
     "text": [
      "The Determinant of L times L Transpose: 147646044694.37805\n"
     ]
    }
   ],
   "source": [
    "L_L_T = np.matmul(L, L_T)\n",
    "print(\"The Determinant of L times L Transpose: \" + str(np.linalg.det(L_L_T)))"
   ]
  },
  {
   "cell_type": "code",
   "execution_count": 11,
   "metadata": {
    "scrolled": true
   },
   "outputs": [
    {
     "name": "stdout",
     "output_type": "stream",
     "text": [
      "The rank of L is: 9\n"
     ]
    }
   ],
   "source": [
    "print(\"The rank of L is: \" + str(np.linalg.matrix_rank(L)))"
   ]
  },
  {
   "cell_type": "markdown",
   "metadata": {},
   "source": [
    "### Explanation\n",
    "\n",
    "The calculated values distance from the theorethical values. The theorethical values of the determinants of $L$ and $L^T$ are calculated multiplying the 10 elements in the diagonal. However, the algorithm that the NumPy library uses is the recursive algorithm to calculate the determinant. This makes the values differ. We could achieve erroneous conclusions about the condition number of these matrices and about their invertibility depending on the algorithm used for the determinant. "
   ]
  },
  {
   "cell_type": "markdown",
   "metadata": {},
   "source": [
    "## Problem 2"
   ]
  },
  {
   "cell_type": "code",
   "execution_count": 12,
   "metadata": {},
   "outputs": [
    {
     "name": "stderr",
     "output_type": "stream",
     "text": [
      "/usr/local/lib64/python3.6/site-packages/scipy/linalg/basic.py:40: RuntimeWarning: scipy.linalg.solve\n",
      "Ill-conditioned matrix detected. Result is not guaranteed to be accurate.\n",
      "Reciprocal condition number/precision: 3.7780862126689677e-17 / 1.1102230246251565e-16\n",
      "  RuntimeWarning)\n",
      "/usr/local/lib64/python3.6/site-packages/scipy/linalg/basic.py:40: RuntimeWarning: scipy.linalg.solve\n",
      "Ill-conditioned matrix detected. Result is not guaranteed to be accurate.\n",
      "Reciprocal condition number/precision: 1.0343900256763508e-18 / 1.1102230246251565e-16\n",
      "  RuntimeWarning)\n",
      "/usr/local/lib64/python3.6/site-packages/scipy/linalg/basic.py:40: RuntimeWarning: scipy.linalg.solve\n",
      "Ill-conditioned matrix detected. Result is not guaranteed to be accurate.\n",
      "Reciprocal condition number/precision: 1.9230260898501144e-18 / 1.1102230246251565e-16\n",
      "  RuntimeWarning)\n"
     ]
    }
   ],
   "source": [
    "values = []\n",
    "for i in [2,5,10,12,13,14]:\n",
    "    matrix = hilbert(i)\n",
    "    determinant = np.linalg.det(matrix)\n",
    "    \n",
    "    ## Solution ##\n",
    "    b = np.matmul(np.ones(i), matrix)\n",
    "\n",
    "    #### LU #####\n",
    "    LU, P = lu_factor(matrix)\n",
    "    x_lu = lu_solve((LU, P), b)\n",
    "    x_lu = max(abs(1-x_lu))\n",
    "    \n",
    "    #### QR #####\n",
    "    q, r = qr(matrix)\n",
    "    y = np.matmul(np.transpose(q), b)\n",
    "    x_qr = solve(r, y)\n",
    "    x_qr = max(abs(1-x_qr))\n",
    "    values.append([i, determinant, x_lu, x_qr])"
   ]
  },
  {
   "cell_type": "code",
   "execution_count": 13,
   "metadata": {},
   "outputs": [
    {
     "name": "stdout",
     "output_type": "stream",
     "text": [
      "  n    Determinant    max |1-x| (LU)    max |1-x| (QR)\n",
      "---  -------------  ----------------  ----------------\n",
      "  2   0.0833333          6.66134e-16       1.44329e-15\n",
      "  5   3.7493e-12         2.77822e-12       3.15667e-11\n",
      " 10   2.16421e-53        0.00016919        0.000135915\n",
      " 12   2.55055e-78        0.287098          0.0285862\n",
      " 13   2.45182e-92        0.251896          3.86957\n",
      " 14  -2.38717e-106       3.57664           8.64639\n"
     ]
    }
   ],
   "source": [
    "print(tabulate(values, headers=[\"n\", \"Determinant\", \"max |1-x| (LU)\", \"max |1-x| (QR)\"]))"
   ]
  },
  {
   "cell_type": "markdown",
   "metadata": {},
   "source": [
    "## Problem 3"
   ]
  },
  {
   "cell_type": "markdown",
   "metadata": {},
   "source": [
    "The code is included in the letter_A.ps file as an annex in PostScript format."
   ]
  },
  {
   "cell_type": "markdown",
   "metadata": {},
   "source": [
    "## Problem 4"
   ]
  },
  {
   "cell_type": "markdown",
   "metadata": {},
   "source": [
    "##### a) Write a function that given an adjacency matrix A and a q values, builds a Google Matrix G from the following equation. $${G}_{ij} = \\frac{q}{n} + (1 - q) \\frac{A_{ji}}{n_j}$$"
   ]
  },
  {
   "cell_type": "code",
   "execution_count": 14,
   "metadata": {},
   "outputs": [],
   "source": [
    "A = np.array([[0, 1, 0, 0, 0, 0, 0, 0, 1, 0, 0, 0, 0, 0, 0],\n",
    "             [0, 0, 1, 0, 1, 0, 1, 0, 0, 0, 0, 0, 0, 0, 0],\n",
    "             [0, 1, 0, 0, 0, 1, 0, 1, 0, 0, 0, 0, 0, 0, 0],\n",
    "             [0, 0, 1, 0, 0, 0, 0, 0, 0, 0, 0, 1, 0, 0, 0],\n",
    "             [1, 0, 0, 0, 0, 0, 0, 0, 0, 1, 0, 0, 0, 0, 0],\n",
    "             [0, 0, 0, 0, 0, 0, 0, 0, 0, 1, 1, 0, 0, 0, 0],\n",
    "             [0, 0, 0, 0, 0, 0, 0, 0, 0, 1, 1, 0, 0, 0, 0],\n",
    "             [0, 0, 0, 1, 0, 0, 0, 0, 0, 0, 1, 0, 0, 0, 0],\n",
    "             [0, 0, 0, 0, 1, 1, 0, 0, 0, 1, 0, 0, 0, 0, 0],\n",
    "             [0, 0, 0, 0, 0, 0, 0, 0, 0, 0, 0, 0, 1, 0, 0],\n",
    "             [0, 0, 0, 0, 0, 0, 0, 0, 0, 0, 0, 0, 0, 0, 1],\n",
    "             [0, 0, 0, 0, 0, 0, 1, 1, 0, 0, 1, 0, 0, 0, 0],\n",
    "             [0, 0, 0, 0, 0, 0, 0, 0, 1, 0, 0, 0, 0, 1, 0],\n",
    "             [0, 0, 0, 0, 0, 0, 0, 0, 0, 1, 1, 0, 1, 0, 1],\n",
    "             [0, 0, 0, 0, 0, 0, 0, 0, 0, 0, 0, 1, 0, 1, 0]\n",
    "             ])"
   ]
  },
  {
   "cell_type": "code",
   "execution_count": 15,
   "metadata": {},
   "outputs": [],
   "source": [
    "def Google(A, q):\n",
    "    G = np.zeros(A.shape)\n",
    "    size = A.shape[0]\n",
    "    \n",
    "    for i in range(size):\n",
    "        for j in range(size):\n",
    "            G[i][j] = (q/size) + (1-q)*(A[j][i]/sum(A[j]))\n",
    "\n",
    "    return(G)\n",
    "                                        "
   ]
  },
  {
   "cell_type": "markdown",
   "metadata": {},
   "source": [
    "##### b) Using the Potence Method, for the graph given in Figure 1, with q = 0, q= 0.15, and q = 0.5, calculate the rankings for each page. Remember that you will calculate the eigenvector asociated to the eigenvalue 1 of the G matrix and that you will normalize the result as follows $$p = \\frac{p_i^{(M)}}{\\sum{p_i^{M}}}$$"
   ]
  },
  {
   "cell_type": "code",
   "execution_count": 16,
   "metadata": {},
   "outputs": [],
   "source": [
    "new_x = []\n",
    "def iterative(G, Tol):\n",
    "    MaxItr = 1000\n",
    "    Err = 1\n",
    "    x = np.repeat(0.1, G.shape[1])\n",
    "    xn = x\n",
    "    it = 0\n",
    "    while (Err > Tol):\n",
    "        it = it + 1\n",
    "        if (it > MaxItr):\n",
    "            print(\"El metodo excede 1000 iteraciones\")\n",
    "        else: \n",
    "            u = np.divide(x,sum(x))\n",
    "            xn = np.matmul(G, u)\n",
    "            lam = np.matmul(np.transpose(u), xn)\n",
    "            Err = norm(x-xn, np.inf)\n",
    "            x = xn\n",
    "    #print(\"The page with highest probability is Page \" + str(np.argmax(x+1)) + \"\\n\")\n",
    "    \n",
    "    \n",
    "    \n",
    "    x_index = np.argsort(x)\n",
    "    x_index = x_index.tolist()\n",
    "    x_index = [i+1 for i in x_index]\n",
    "\n",
    "    x = np.sort(x, axis=0)\n",
    "    values = []\n",
    "    \n",
    "    for i in range(G.shape[1]):\n",
    "        if (G.shape[1] < 15):\n",
    "            if (x_index[i] >= 10):\n",
    "                temp_x_index = int(x_index[i]) + 1\n",
    "                values.append([temp_x_index, x[i]])\n",
    "            else:\n",
    "                values.append([x_index[i], x[i]])\n",
    "        else:\n",
    "            values.append([x_index[i], x[i]])\n",
    "        \n",
    "    print(tabulate(values, headers=[\"Page\", \"Probability\"]))"
   ]
  },
  {
   "cell_type": "code",
   "execution_count": 17,
   "metadata": {},
   "outputs": [
    {
     "name": "stdout",
     "output_type": "stream",
     "text": [
      "  Page    Probability\n",
      "------  -------------\n",
      "     2      0.0115831\n",
      "     3      0.0115831\n",
      "     1      0.0154445\n",
      "     4      0.0154445\n",
      "     5      0.0308871\n",
      "     6      0.0308871\n",
      "     7      0.0308871\n",
      "     8      0.0308871\n",
      "     9      0.0810807\n",
      "    12      0.0810807\n",
      "    10      0.110038\n",
      "    11      0.110038\n",
      "    14      0.146717\n",
      "    13      0.146721\n",
      "    15      0.146721\n"
     ]
    }
   ],
   "source": [
    "G_0 = Google(A, 0)\n",
    "iterative(G_0, 0.000005)"
   ]
  },
  {
   "cell_type": "code",
   "execution_count": 18,
   "metadata": {},
   "outputs": [
    {
     "name": "stdout",
     "output_type": "stream",
     "text": [
      "  Page    Probability\n",
      "------  -------------\n",
      "     4      0.0268248\n",
      "     1      0.0268248\n",
      "     3      0.0298608\n",
      "     2      0.0298608\n",
      "     5      0.0395877\n",
      "     6      0.0395877\n",
      "     7      0.0395877\n",
      "     8      0.0395877\n",
      "     9      0.0745633\n",
      "    12      0.0745633\n",
      "    10      0.106322\n",
      "    11      0.106322\n",
      "    14      0.116326\n",
      "    13      0.125091\n",
      "    15      0.125091\n"
     ]
    }
   ],
   "source": [
    "G_15 = Google(A, 0.15)\n",
    "iterative(G_15, 0.000005)"
   ]
  },
  {
   "cell_type": "code",
   "execution_count": 19,
   "metadata": {},
   "outputs": [
    {
     "name": "stdout",
     "output_type": "stream",
     "text": [
      "  Page    Probability\n",
      "------  -------------\n",
      "     1      0.0467355\n",
      "     4      0.0467355\n",
      "     5      0.0536094\n",
      "     6      0.0536094\n",
      "     7      0.0536094\n",
      "     8      0.0536094\n",
      "     2      0.0540208\n",
      "     3      0.0540208\n",
      "     9      0.0676356\n",
      "    12      0.0676356\n",
      "    14      0.0785699\n",
      "    13      0.0904709\n",
      "    15      0.0904709\n",
      "    10      0.0946335\n",
      "    11      0.0946335\n"
     ]
    }
   ],
   "source": [
    "G_50 = Google(A, 0.5)\n",
    "iterative(G_50, 0.000005)"
   ]
  },
  {
   "cell_type": "markdown",
   "metadata": {
    "collapsed": true
   },
   "source": [
    "##### c) Study  what would happen with the page rankings if we eliminate page 10 from the graph (all the links to and from page 10 are eliminated from the graph because it no longer exists). Compare with the results from part (b)."
   ]
  },
  {
   "cell_type": "code",
   "execution_count": 20,
   "metadata": {},
   "outputs": [],
   "source": [
    "A_10 = np.delete(A, 9, 0)\n",
    "A_10 = np.delete(A_10, 9, 1)"
   ]
  },
  {
   "cell_type": "code",
   "execution_count": 21,
   "metadata": {
    "scrolled": true
   },
   "outputs": [
    {
     "name": "stdout",
     "output_type": "stream",
     "text": [
      "  Page    Probability\n",
      "------  -------------\n",
      "     2      0.0178042\n",
      "     3      0.0181985\n",
      "     1      0.023473\n",
      "     5      0.0234738\n",
      "     6      0.0236052\n",
      "     4      0.0245292\n",
      "     9      0.03508\n",
      "    13      0.0466831\n",
      "     7      0.0489255\n",
      "     8      0.0490568\n",
      "    12      0.12897\n",
      "    14      0.140048\n",
      "    11      0.186735\n",
      "    15      0.233418\n"
     ]
    }
   ],
   "source": [
    "G_0 = Google(A_10, 0)\n",
    "iterative(G_0, 0.000005)"
   ]
  },
  {
   "cell_type": "code",
   "execution_count": 22,
   "metadata": {},
   "outputs": [
    {
     "name": "stdout",
     "output_type": "stream",
     "text": [
      "  Page    Probability\n",
      "------  -------------\n",
      "     4      0.0320698\n",
      "     3      0.0359359\n",
      "     2      0.0409132\n",
      "    13      0.0411611\n",
      "     6      0.0413913\n",
      "     5      0.0428014\n",
      "     1      0.0470957\n",
      "     9      0.0482246\n",
      "     8      0.0502483\n",
      "     7      0.0516583\n",
      "    12      0.103598\n",
      "    14      0.107461\n",
      "    11      0.170961\n",
      "    15      0.18648\n"
     ]
    }
   ],
   "source": [
    "G_15 = Google(A_10, 0.15)\n",
    "iterative(G_15, 0.000005)"
   ]
  },
  {
   "cell_type": "code",
   "execution_count": 23,
   "metadata": {},
   "outputs": [
    {
     "name": "stdout",
     "output_type": "stream",
     "text": [
      "  Page    Probability\n",
      "------  -------------\n",
      "    13      0.0485539\n",
      "     4      0.0503148\n",
      "     8      0.058404\n",
      "     3      0.0586594\n",
      "     7      0.0589934\n",
      "     6      0.0616309\n",
      "     2      0.0621974\n",
      "     5      0.0622203\n",
      "     9      0.0645587\n",
      "     1      0.0668253\n",
      "    14      0.0770388\n",
      "    12      0.0774797\n",
      "    15      0.116744\n",
      "    11      0.13638\n"
     ]
    }
   ],
   "source": [
    "G_50 = Google(A_10, 0.5)\n",
    "iterative(G_50, 0.000005)"
   ]
  },
  {
   "cell_type": "markdown",
   "metadata": {},
   "source": [
    "## Problem 5"
   ]
  },
  {
   "cell_type": "markdown",
   "metadata": {},
   "source": [
    "##### Functions for the Iterative Methods in this Problem"
   ]
  },
  {
   "cell_type": "code",
   "execution_count": 45,
   "metadata": {},
   "outputs": [],
   "source": [
    "def jacobi(A, b, x0):\n",
    "    n = A.shape[0]\n",
    "    xn = np.zeros(n)\n",
    "    k = 0\n",
    "    while k < 5:\n",
    "        k = k + 1\n",
    "        for i in range(n):\n",
    "            if abs(A[i,i]) < np.finfo(float).eps:\n",
    "                print(\"Cero en la diagonal\")\n",
    "            else:\n",
    "                under_diag = i-1\n",
    "                upper_diag = i+1\n",
    "                if (under_diag > 2 and upper_diag < n):\n",
    "                    xn[i] = (b[i] - A[i, i-1]*x0[i-1] - A[i, i+1]*x0[i+1])/A[i,i]\n",
    "        err = norm(xn-x0, np.inf)\n",
    "        x0 = xn\n",
    "    print(\"Mean Predicted X: \" + str(sum(x0)/len(x0)))\n",
    "    print(\"Iterations: \" + str(k))"
   ]
  },
  {
   "cell_type": "code",
   "execution_count": 46,
   "metadata": {},
   "outputs": [],
   "source": [
    "def seidel(A, b, x0):\n",
    "    n = A.shape[0]\n",
    "    xn = np.zeros(n)\n",
    "    it = 0\n",
    "    while it < 5:\n",
    "        it = it + 1\n",
    "        for i in range(n):\n",
    "            if abs(A[i,i] < np.finfo(float).eps):\n",
    "                print(\"Cero en la diagonal\")\n",
    "            else:\n",
    "                under_diag = i-1\n",
    "                upper_diag = i+1\n",
    "                if (under_diag > 2 and upper_diag < n):\n",
    "                    xn[i] = (b[i] - A[i, i-1]*xn[i-1] - A[i, i+1]*x0[i+1])/A[i,i]\n",
    "        err = norm(xn-x0, np.inf)\n",
    "        x0 = xn\n",
    "    print(\"Mean Predicted X: \" + str(sum(x0)/len(x0)))\n",
    "    print(\"Iterations: \" + str(it))"
   ]
  },
  {
   "cell_type": "code",
   "execution_count": 47,
   "metadata": {},
   "outputs": [],
   "source": [
    "def sor(A, b, x0, w):\n",
    "    n = A.shape[0]\n",
    "    xn = np.zeros(n)\n",
    "    it = 0\n",
    "    while it < 5:\n",
    "        it = it + 1\n",
    "        for i in range(n):\n",
    "            if abs(A[i,i] < np.finfo(float).eps):\n",
    "                print(\"Cero en la diagonal\")\n",
    "            else:\n",
    "                under_diag = i-1\n",
    "                upper_diag = i+1\n",
    "                if (under_diag >= 2 and upper_diag < n):\n",
    "                    xn[i+1] = x0[i] + w*(((b[i] - A[i, i-1]*xn[i-1] - A[i, i+1]*x0[i+1])/A[i,i]) - x0[i]) \n",
    "        err = norm(xn-x0, np.inf)\n",
    "        x0 = xn\n",
    "        \n",
    "    print(\"Mean Predicted X: \" + str(sum(x0)/len(x0)))\n",
    "    print(\"Iterations: \" + str(it))"
   ]
  },
  {
   "cell_type": "markdown",
   "metadata": {},
   "source": [
    "##### N = 100"
   ]
  },
  {
   "cell_type": "code",
   "execution_count": 48,
   "metadata": {},
   "outputs": [],
   "source": [
    "N = 100\n",
    "diagonals = np.zeros((3, N))\n",
    "diagonals[0,:] = -1\n",
    "diagonals[1, :] = 3\n",
    "diagonals[2, :] = -1\n",
    "import scipy.sparse\n",
    "A = scipy.sparse.spdiags(diagonals, [-1, 0, 1], N, N, \"csr\")\n",
    "\n",
    "b = np.repeat(1, N)\n",
    "b[0] = 2\n",
    "b[-1] = 2\n",
    "\n",
    "x0 = np.repeat(0, N)"
   ]
  },
  {
   "cell_type": "code",
   "execution_count": 49,
   "metadata": {},
   "outputs": [
    {
     "name": "stdout",
     "output_type": "stream",
     "text": [
      "Mean Predicted X: 0.8997491807651269\n",
      "Iterations: 5\n"
     ]
    }
   ],
   "source": [
    "jacobi(A, b, x0)"
   ]
  },
  {
   "cell_type": "code",
   "execution_count": 50,
   "metadata": {},
   "outputs": [
    {
     "name": "stdout",
     "output_type": "stream",
     "text": [
      "Mean Predicted X: 0.9093009116369456\n",
      "Iterations: 5\n"
     ]
    }
   ],
   "source": [
    "seidel(A,b,x0)"
   ]
  },
  {
   "cell_type": "code",
   "execution_count": 51,
   "metadata": {},
   "outputs": [
    {
     "name": "stdout",
     "output_type": "stream",
     "text": [
      "Mean Predicted X: 0.9260069444436325\n",
      "Iterations: 5\n"
     ]
    }
   ],
   "source": [
    "w = 1.2\n",
    "sor(A, b, x0, w)"
   ]
  },
  {
   "cell_type": "markdown",
   "metadata": {},
   "source": [
    "##### N = 100,000"
   ]
  },
  {
   "cell_type": "code",
   "execution_count": 52,
   "metadata": {},
   "outputs": [],
   "source": [
    "N = 100000\n",
    "diagonals = np.zeros((3, N))\n",
    "diagonals[0,:] = -1\n",
    "diagonals[1, :] = 3\n",
    "diagonals[2, :] = -1\n",
    "import scipy.sparse\n",
    "A = scipy.sparse.spdiags(diagonals, [-1, 0, 1], N, N, \"csr\")\n",
    "\n",
    "b = np.repeat(1, N)\n",
    "b[0] = 2\n",
    "b[-1] = 2\n",
    "\n",
    "x0 = np.repeat(0, N)"
   ]
  },
  {
   "cell_type": "code",
   "execution_count": 53,
   "metadata": {},
   "outputs": [
    {
     "name": "stdout",
     "output_type": "stream",
     "text": [
      "Mean Predicted X: 0.9582747491798954\n",
      "Iterations: 5\n"
     ]
    }
   ],
   "source": [
    "jacobi(A, b, x0)"
   ]
  },
  {
   "cell_type": "code",
   "execution_count": 54,
   "metadata": {},
   "outputs": [
    {
     "name": "stdout",
     "output_type": "stream",
     "text": [
      "Mean Predicted X: 0.9686905509116369\n",
      "Iterations: 5\n"
     ]
    }
   ],
   "source": [
    "seidel(A,b,x0)"
   ]
  },
  {
   "cell_type": "code",
   "execution_count": 55,
   "metadata": {},
   "outputs": [
    {
     "name": "stdout",
     "output_type": "stream",
     "text": [
      "Mean Predicted X: 0.979113506945399\n",
      "Iterations: 5\n"
     ]
    }
   ],
   "source": [
    "w = 1.2\n",
    "sor(A, b, x0, w)"
   ]
  },
  {
   "cell_type": "markdown",
   "metadata": {},
   "source": [
    "#### Explanation:\n",
    "\n",
    "I had problems with the infinite norm, given that always at the second iteration it was lower than the epsilon of the machine, so I changed the problem to one in which all the methods would iterate the same amount of time and then evaluate the mean of the predicted X's and use that as a metric. With this method, a w of 1.2 could improve the performance of the SOR method over the Gauss-Seidel Method. "
   ]
  }
 ],
 "metadata": {
  "kernelspec": {
   "display_name": "Python 3",
   "language": "python",
   "name": "python3"
  },
  "language_info": {
   "codemirror_mode": {
    "name": "ipython",
    "version": 3
   },
   "file_extension": ".py",
   "mimetype": "text/x-python",
   "name": "python",
   "nbconvert_exporter": "python",
   "pygments_lexer": "ipython3",
   "version": "3.6.4"
  }
 },
 "nbformat": 4,
 "nbformat_minor": 2
}
